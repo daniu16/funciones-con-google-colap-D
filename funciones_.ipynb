{
  "nbformat": 4,
  "nbformat_minor": 0,
  "metadata": {
    "colab": {
      "provenance": [],
      "authorship_tag": "ABX9TyPaYF4fgIOpCubrQgUfYiNX",
      "include_colab_link": true
    },
    "kernelspec": {
      "name": "python3",
      "display_name": "Python 3"
    },
    "language_info": {
      "name": "python"
    }
  },
  "cells": [
    {
      "cell_type": "markdown",
      "metadata": {
        "id": "view-in-github",
        "colab_type": "text"
      },
      "source": [
        "<a href=\"https://colab.research.google.com/github/daniu16/funciones-con-google-colap-D/blob/main/funciones_.ipynb\" target=\"_parent\"><img src=\"https://colab.research.google.com/assets/colab-badge.svg\" alt=\"Open In Colab\"/></a>"
      ]
    },
    {
      "cell_type": "code",
      "source": [
        "# importa todos los comando \n",
        "from matplotlib.pyplot import plot, show, xlim, ylim, xticks, legend, figure, subplot \n",
        "from numpy import linspace, pi, sin, cos, tan\n",
        "import numpy as np\n",
        "import matplotlib.pyplot as plt"
      ],
      "metadata": {
        "id": "ESYQDYy0Pgsa"
      },
      "execution_count": 11,
      "outputs": []
    },
    {
      "cell_type": "code",
      "execution_count": null,
      "metadata": {
        "id": "_JX3EfNBKUVM"
      },
      "outputs": [],
      "source": [
        "#crear un diseñadro de funciones \n",
        "\n",
        "#input \n",
        "print(\"------------------------------\")\n",
        "print(\"---se graficara una funcion---\")\n",
        "print(\"------------------------------\")\n",
        "\n",
        "\n",
        "print(\"------------------------------\")\n",
        "print(\"--------1=funcion linel-------\")\n",
        "print(\"-----2=funcion cuadratica-----\")\n",
        "print(\"-------3=funcion cubica-------\")\n",
        "print(\"-----4=funcion exponencial----\")\n",
        "print(\"-----5=funcion logaritmica----\")\n",
        "print(\"---6=funcion trigonometrica --\")\n",
        "print(\"------------------------------\")\n",
        "\n",
        "\n",
        "n=int(input(\"escoja la funcion que desea graficar: \"))\n",
        "\n",
        "if n==1:\n",
        "  def funcion_lineal(m,b,x):\n",
        "    return m*x+b\n",
        "\n",
        "  print(\"fuincion lineal\")\n",
        "  print(\"----y=mx+b----\")\n",
        "  m=int(input(\"digite el valor de la pendiente m: \"))\n",
        "  b=int(input(\"digite el valor del corte en el eje y b: \"))\n",
        "  x = np.linspace(-10,10, 100)\n",
        "  y = funcion_lineal(m,b,x)\n",
        "\n",
        "  plt.plot(x,y, color= \"r\") \n",
        "  plt.xlabel(\"x\")\n",
        "  plt.ylabel(\"y\")\n",
        "  plt.title(\"funcion lineal: y=mx + b\")\n",
        "  plt.grid()\n",
        "  plt.axhline(y=0, color= \"b\")\n",
        "  plt.axvline(x=0, color= \"b\")\n",
        "  plt.show()\n",
        "\n",
        "elif n==2:\n",
        "  def funcion_cuadratica(x):\n",
        "    return x^2\n",
        "  print(\"funcion cuadratica\")\n",
        "  print(\"------y=x^2-------\")\n",
        "  n=int(input(\"digite el valor de x: \"))\n",
        "  x = np.linspace(-10,10, 100)\n",
        "  y=(n)^2\n",
        "  plot(x,y)\n",
        "  ylim(-2,2)\n",
        "  plt.show()"
      ]
    }
  ]
}