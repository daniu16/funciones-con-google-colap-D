{
  "nbformat": 4,
  "nbformat_minor": 0,
  "metadata": {
    "colab": {
      "provenance": [],
      "authorship_tag": "ABX9TyP1JACoyc1OymCrbecM8Jhm",
      "include_colab_link": true
    },
    "kernelspec": {
      "name": "python3",
      "display_name": "Python 3"
    },
    "language_info": {
      "name": "python"
    }
  },
  "cells": [
    {
      "cell_type": "markdown",
      "metadata": {
        "id": "view-in-github",
        "colab_type": "text"
      },
      "source": [
        "<a href=\"https://colab.research.google.com/github/daniu16/funciones-con-google-colap-D/blob/main/funciones_.ipynb\" target=\"_parent\"><img src=\"https://colab.research.google.com/assets/colab-badge.svg\" alt=\"Open In Colab\"/></a>"
      ]
    },
    {
      "cell_type": "code",
      "source": [
        "# importa todos los comando \n",
        "from matplotlib.pyplot import plot, show, xlim, ylim, xticks, legend, figure, subplot, logging, sin, cos, tan \n",
        "import numpy as np\n",
        "import matplotlib.pyplot as plt\n",
        "from cmath import *"
      ],
      "metadata": {
        "id": "ESYQDYy0Pgsa",
        "colab": {
          "base_uri": "https://localhost:8080/",
          "height": 373
        },
        "outputId": "b20ab952-4282-4ee6-8eab-01a40c484e08"
      },
      "execution_count": 25,
      "outputs": [
        {
          "output_type": "error",
          "ename": "ImportError",
          "evalue": "ignored",
          "traceback": [
            "\u001b[0;31m---------------------------------------------------------------------------\u001b[0m",
            "\u001b[0;31mImportError\u001b[0m                               Traceback (most recent call last)",
            "\u001b[0;32m<ipython-input-25-cbaf7ce30b88>\u001b[0m in \u001b[0;36m<module>\u001b[0;34m\u001b[0m\n\u001b[1;32m      1\u001b[0m \u001b[0;31m# importa todos los comando\u001b[0m\u001b[0;34m\u001b[0m\u001b[0;34m\u001b[0m\u001b[0;34m\u001b[0m\u001b[0m\n\u001b[0;32m----> 2\u001b[0;31m \u001b[0;32mfrom\u001b[0m \u001b[0mmatplotlib\u001b[0m\u001b[0;34m.\u001b[0m\u001b[0mpyplot\u001b[0m \u001b[0;32mimport\u001b[0m \u001b[0mplot\u001b[0m\u001b[0;34m,\u001b[0m \u001b[0mshow\u001b[0m\u001b[0;34m,\u001b[0m \u001b[0mxlim\u001b[0m\u001b[0;34m,\u001b[0m \u001b[0mylim\u001b[0m\u001b[0;34m,\u001b[0m \u001b[0mxticks\u001b[0m\u001b[0;34m,\u001b[0m \u001b[0mlegend\u001b[0m\u001b[0;34m,\u001b[0m \u001b[0mfigure\u001b[0m\u001b[0;34m,\u001b[0m \u001b[0msubplot\u001b[0m\u001b[0;34m,\u001b[0m \u001b[0mlogging\u001b[0m\u001b[0;34m,\u001b[0m \u001b[0msin\u001b[0m\u001b[0;34m,\u001b[0m \u001b[0mcos\u001b[0m\u001b[0;34m,\u001b[0m \u001b[0mtan\u001b[0m\u001b[0;34m\u001b[0m\u001b[0;34m\u001b[0m\u001b[0m\n\u001b[0m\u001b[1;32m      3\u001b[0m \u001b[0;32mimport\u001b[0m \u001b[0mnumpy\u001b[0m \u001b[0;32mas\u001b[0m \u001b[0mnp\u001b[0m\u001b[0;34m\u001b[0m\u001b[0;34m\u001b[0m\u001b[0m\n\u001b[1;32m      4\u001b[0m \u001b[0;32mimport\u001b[0m \u001b[0mmatplotlib\u001b[0m\u001b[0;34m.\u001b[0m\u001b[0mpyplot\u001b[0m \u001b[0;32mas\u001b[0m \u001b[0mplt\u001b[0m\u001b[0;34m\u001b[0m\u001b[0;34m\u001b[0m\u001b[0m\n\u001b[1;32m      5\u001b[0m \u001b[0;32mfrom\u001b[0m \u001b[0mcmath\u001b[0m \u001b[0;32mimport\u001b[0m \u001b[0;34m*\u001b[0m\u001b[0;34m\u001b[0m\u001b[0;34m\u001b[0m\u001b[0m\n",
            "\u001b[0;31mImportError\u001b[0m: cannot import name 'sin' from 'matplotlib.pyplot' (/usr/local/lib/python3.7/dist-packages/matplotlib/pyplot.py)",
            "",
            "\u001b[0;31m---------------------------------------------------------------------------\u001b[0;32m\nNOTE: If your import is failing due to a missing package, you can\nmanually install dependencies using either !pip or !apt.\n\nTo view examples of installing some common dependencies, click the\n\"Open Examples\" button below.\n\u001b[0;31m---------------------------------------------------------------------------\u001b[0m\n"
          ],
          "errorDetails": {
            "actions": [
              {
                "action": "open_url",
                "actionText": "Open Examples",
                "url": "/notebooks/snippets/importing_libraries.ipynb"
              }
            ]
          }
        }
      ]
    },
    {
      "cell_type": "code",
      "execution_count": 26,
      "metadata": {
        "id": "_JX3EfNBKUVM",
        "colab": {
          "base_uri": "https://localhost:8080/",
          "height": 582
        },
        "outputId": "aaa51121-83b8-4408-8ade-160beb6fc290"
      },
      "outputs": [
        {
          "name": "stdout",
          "output_type": "stream",
          "text": [
            "------------------------------\n",
            "---se graficara una funcion---\n",
            "------------------------------\n",
            "------------------------------\n",
            "--------1=funcion linel-------\n",
            "-----2=funcion cuadratica-----\n",
            "-------3=funcion cubica-------\n",
            "-----4=funcion exponencial----\n",
            "-----5=funcion logaritmica----\n",
            "---6=funcion trigonometrica --\n",
            "------------------------------\n",
            "escoja la funcion que desea graficar: 6\n",
            "funcion trigonometrica\n",
            "ingrese el valor de la variable: 4\n",
            "------------\n",
            "---1:sin----\n",
            "---2:cos----\n",
            "---3:tan----\n",
            "------------\n",
            "ingrese un valor trigonometrico: 1\n"
          ]
        },
        {
          "output_type": "error",
          "ename": "NameError",
          "evalue": "ignored",
          "traceback": [
            "\u001b[0;31m---------------------------------------------------------------------------\u001b[0m",
            "\u001b[0;31mNameError\u001b[0m                                 Traceback (most recent call last)",
            "\u001b[0;32m<ipython-input-26-f56efd5d3b0c>\u001b[0m in \u001b[0;36m<module>\u001b[0;34m\u001b[0m\n\u001b[1;32m    133\u001b[0m   \u001b[0;32mif\u001b[0m \u001b[0mk\u001b[0m\u001b[0;34m==\u001b[0m\u001b[0;36m1\u001b[0m\u001b[0;34m:\u001b[0m\u001b[0;34m\u001b[0m\u001b[0;34m\u001b[0m\u001b[0m\n\u001b[1;32m    134\u001b[0m     \u001b[0mx\u001b[0m\u001b[0;34m=\u001b[0m\u001b[0mnumpy\u001b[0m\u001b[0;34m.\u001b[0m\u001b[0mlinspace\u001b[0m\u001b[0;34m(\u001b[0m\u001b[0;36m100\u001b[0m\u001b[0;34m,\u001b[0m\u001b[0;36m100\u001b[0m\u001b[0;34m,\u001b[0m \u001b[0;36m2560\u001b[0m\u001b[0;34m)\u001b[0m\u001b[0;34m\u001b[0m\u001b[0;34m\u001b[0m\u001b[0m\n\u001b[0;32m--> 135\u001b[0;31m     \u001b[0my\u001b[0m\u001b[0;34m=\u001b[0m\u001b[0msin\u001b[0m\u001b[0;34m(\u001b[0m\u001b[0mx\u001b[0m\u001b[0;34m)\u001b[0m\u001b[0;34m\u001b[0m\u001b[0;34m\u001b[0m\u001b[0m\n\u001b[0m\u001b[1;32m    136\u001b[0m     \u001b[0mplot\u001b[0m\u001b[0;34m(\u001b[0m\u001b[0mx\u001b[0m\u001b[0;34m,\u001b[0m\u001b[0my\u001b[0m\u001b[0;34m)\u001b[0m\u001b[0;34m\u001b[0m\u001b[0;34m\u001b[0m\u001b[0m\n\u001b[1;32m    137\u001b[0m     \u001b[0mylim\u001b[0m\u001b[0;34m(\u001b[0m\u001b[0;34m-\u001b[0m\u001b[0;36m2\u001b[0m\u001b[0;34m,\u001b[0m\u001b[0;36m2\u001b[0m\u001b[0;34m)\u001b[0m\u001b[0;34m\u001b[0m\u001b[0;34m\u001b[0m\u001b[0m\n",
            "\u001b[0;31mNameError\u001b[0m: name 'sin' is not defined"
          ]
        }
      ],
      "source": [
        "from matplotlib import numpy\n",
        "#crear un diseñadro de funciones \n",
        "\n",
        "#input \n",
        "print(\"------------------------------\")\n",
        "print(\"---se graficara una funcion---\")\n",
        "print(\"------------------------------\")\n",
        "\n",
        "\n",
        "print(\"------------------------------\")\n",
        "print(\"--------1=funcion linel-------\")\n",
        "print(\"-----2=funcion cuadratica-----\")\n",
        "print(\"-------3=funcion cubica-------\")\n",
        "print(\"-----4=funcion exponencial----\")\n",
        "print(\"-----5=funcion logaritmica----\")\n",
        "print(\"---6=funcion trigonometrica --\")\n",
        "print(\"------------------------------\")\n",
        "\n",
        "\n",
        "n=int(input(\"escoja la funcion que desea graficar: \"))\n",
        "\n",
        "if n==1:\n",
        "  print(\"funcion lineal\")\n",
        "  def funcion_lineal(m,b,x):\n",
        "    return m*x+b\n",
        "\n",
        "  m=int(input(\"digite el valor de la pendiente m: \"))\n",
        "  b=int(input(\"digite el valor del corte en el eje y b: \"))\n",
        "  x = np.linspace(-10,10, 100)\n",
        "  y = funcion_lineal(m,b,x)\n",
        "\n",
        "  plt.plot(x,y, color= \"r\") \n",
        "  plt.xlabel(\"x\")\n",
        "  plt.ylabel(\"y\")\n",
        "  plt.title(\"funcion lineal: y=mx + b\")\n",
        "  plt.grid()\n",
        "  plt.axhline(y=0, color= \"b\")\n",
        "  plt.axvline(x=0, color= \"b\")\n",
        "  plt.show()\n",
        "\n",
        "elif n==2:\n",
        "  print(\"funcion cubica\")\n",
        "  def funcion_cuadratica(m):\n",
        "    return ((m)^2)\n",
        "\n",
        "  m=int(input(\"digite el valor de la variable: \"))\n",
        "  x=np.linspace(-5,50, 100)\n",
        "  y=m^2\n",
        "  plot(x,y)\n",
        "  ylim(-2,2)\n",
        "\n",
        "  plt.plot(x,y, color= \"r\") \n",
        "  plt.xlabel(\"x\")\n",
        "  plt.ylabel(\"y\")\n",
        "  plt.title(\"funcion cuadratica: y=x^2\")\n",
        "  plt.grid()\n",
        "  plt.axhline(y=0, color= \"b\")\n",
        "  plt.axvline(x=0, color= \"b\")\n",
        "  show()\n",
        "\n",
        "elif n==3:\n",
        "  print(\"funcion cubica\")\n",
        "  def funcion_cubica(m):\n",
        "    return ((m)^3)\n",
        "\n",
        "  m=int(input(\"digite el valor de la variable: \"))\n",
        "  x=np.linspace(-50,50, 150)\n",
        "  y=m^2\n",
        "  plot(x,y)\n",
        "  ylim(-2,2)\n",
        "  \n",
        "  plt.plot(x,y, color= \"r\") \n",
        "  plt.xlabel(\"x\")\n",
        "  plt.ylabel(\"y\")\n",
        "  plt.title(\"funcion cubica: y=x^3\")\n",
        "  plt.grid()\n",
        "  plt.axhline(y=0, color= \"b\")\n",
        "  plt.axvline(x=0, color= \"b\")\n",
        "  show()\n",
        "\n",
        "elif n==4:\n",
        "  print(\"funcion exponencial\")\n",
        "  def funcion_exponencial(m,k):\n",
        "    return ((m)^k)\n",
        "\n",
        "  m=int(input(\"digite el valor de la variable: \"))\n",
        "  k=int(input(\"digite el valor del exponente: \"))\n",
        "  x=np.linspace(-50,50, 150)\n",
        "  y=m^n\n",
        "  plot(x,y)\n",
        "  ylim(-2,2)\n",
        "  \n",
        "  plt.plot(x,y, color= \"r\") \n",
        "  plt.xlabel(\"x\")\n",
        "  plt.ylabel(\"y\")\n",
        "  plt.title(\"funcion exponencial: y=x^n\")\n",
        "  plt.grid()\n",
        "  plt.axhline(y=0, color= \"b\")\n",
        "  plt.axvline(x=0, color= \"b\")\n",
        "  show()\n",
        "\n",
        "elif n==5:\n",
        "  print(\"funcion logaritmica\")\n",
        "  def funcion_exponencial(m):\n",
        "    return (logging(m))\n",
        "\n",
        "  m=int(input(\"digite el valor de la variable: \"))\n",
        "  x=np.linspace(-50,50, 100)\n",
        "  y=logging(x)\n",
        "  plot(x,y)\n",
        "  ylim(-2,2)\n",
        "\n",
        "  plt.plot(x,y, color= \"r\") \n",
        "  plt.xlabel(\"x\")\n",
        "  plt.ylabel(\"y\")\n",
        "  plt.title(\"funcion logaritmica: y=log(x)\")\n",
        "  plt.grid()\n",
        "  plt.axhline(y=0, color= \"b\")\n",
        "  plt.axvline(x=0, color= \"b\")\n",
        "  show()\n",
        "\n",
        "elif n==6:\n",
        "  print(\"funcion trigonometrica\")\n",
        "  def funciones_trigonometricas(m):\n",
        "    return (sin(m),cos(m),tan(m))\n",
        "  m=int(input(\"ingrese el valor de la variable: \"))\n",
        "  print(\"------------\")\n",
        "  print(\"---1:sin----\")\n",
        "  print(\"---2:cos----\")\n",
        "  print(\"---3:tan----\")\n",
        "  print(\"------------\")\n",
        "  k=int(input(\"ingrese un valor trigonometrico: \"))\n",
        "  if k==1:\n",
        "    x=numpy.linspace(-pi,pi, 2560)\n",
        "    y=sin(x)\n",
        "    plot(x,y)\n",
        "    ylim(-2,2)\n",
        "    show()\n",
        "  elif k==2:\n",
        "    x=numpy.linspace(-pi,pi, 2560)\n",
        "    y=cos(x)\n",
        "    plot(x,y)\n",
        "    ylim(-2,2)\n",
        "    show()\n",
        "  elif k==3:\n",
        "    x=numpy.linspace(-pi,pi, 2560)\n",
        "    y=tan(x)\n",
        "    plot(x,y)\n",
        "    ylim(-2,2)\n",
        "    show()\n"
      ]
    }
  ]
}