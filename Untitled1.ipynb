{
  "nbformat": 4,
  "nbformat_minor": 0,
  "metadata": {
    "colab": {
      "provenance": [],
      "authorship_tag": "ABX9TyNHNFoMh5/Ens/EjwSchJzh",
      "include_colab_link": true
    },
    "kernelspec": {
      "name": "python3",
      "display_name": "Python 3"
    },
    "language_info": {
      "name": "python"
    }
  },
  "cells": [
    {
      "cell_type": "markdown",
      "metadata": {
        "id": "view-in-github",
        "colab_type": "text"
      },
      "source": [
        "<a href=\"https://colab.research.google.com/github/daniu16/funciones-con-google-colap-D/blob/main/Untitled1.ipynb\" target=\"_parent\"><img src=\"https://colab.research.google.com/assets/colab-badge.svg\" alt=\"Open In Colab\"/></a>"
      ]
    },
    {
      "cell_type": "code",
      "execution_count": null,
      "metadata": {
        "colab": {
          "base_uri": "https://localhost:8080/"
        },
        "id": "_JX3EfNBKUVM",
        "outputId": "71922d8f-25fb-405a-c21a-b3fc7acfc22f"
      },
      "outputs": [
        {
          "output_type": "stream",
          "name": "stdout",
          "text": [
            "------------------------------\n",
            "---se graficara una funcion---\n",
            "------------------------------\n",
            "------------------------------\n",
            "--------1=funcion linel-------\n",
            "-----2=funcion cuadratica-----\n",
            "-------3=funcion cubica-------\n",
            "-----4=funcion exponencial----\n",
            "-----5=funcion logaritmica----\n",
            "---6=funcion trigonometrica --\n",
            "------------------------------\n"
          ]
        }
      ],
      "source": [
        "#crear un diseñadro de funciones \n",
        "\n",
        "#input \n",
        "print(\"------------------------------\")\n",
        "print(\"---se graficara una funcion---\")\n",
        "print(\"------------------------------\")\n",
        "\n",
        "\n",
        "print(\"------------------------------\")\n",
        "print(\"--------1=funcion linel-------\")\n",
        "print(\"-----2=funcion cuadratica-----\")\n",
        "print(\"-------3=funcion cubica-------\")\n",
        "print(\"-----4=funcion exponencial----\")\n",
        "print(\"-----5=funcion logaritmica----\")\n",
        "print(\"---6=funcion trigonometrica --\")\n",
        "print(\"------------------------------\")\n",
        "\n",
        "n=int(input(\"escoja la funcion que desea graficar: \"))"
      ]
    }
  ]
}